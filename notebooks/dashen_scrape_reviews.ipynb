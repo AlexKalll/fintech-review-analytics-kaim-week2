{
 "cells": [
  {
   "cell_type": "code",
   "execution_count": 1,
   "id": "b49bbe5d",
   "metadata": {},
   "outputs": [
    {
     "name": "stderr",
     "output_type": "stream",
     "text": [
      "[nltk_data] Downloading package punkt to C:\\Users\\Alem The\n",
      "[nltk_data]     Kal\\AppData\\Roaming\\nltk_data...\n",
      "[nltk_data]   Package punkt is already up-to-date!\n",
      "[nltk_data] Downloading package wordnet to C:\\Users\\Alem The\n",
      "[nltk_data]     Kal\\AppData\\Roaming\\nltk_data...\n",
      "[nltk_data]   Package wordnet is already up-to-date!\n"
     ]
    }
   ],
   "source": [
    "import pandas as pd\n",
    "import os\n",
    "import sys\n",
    "\n",
    "sys.path.append(os.path.abspath(\"..\"))\n",
    "\n",
    "from scripts.scrape import fetch_reviews\n",
    "from scripts.clean_reviews import ReviewCleaner\n"
   ]
  },
  {
   "cell_type": "code",
   "execution_count": 2,
   "id": "b2530273",
   "metadata": {},
   "outputs": [],
   "source": [
    "bank = \"Dashen Bank\"\n",
    "app_id = \"com.dashen.dashensuperapp\"\n",
    "\n",
    "raw_path = \"../data/raw/dashen_raw_reviews.csv\"\n",
    "processed_path = \"../data/processed/dashen_clean_reviews.csv\"\n"
   ]
  },
  {
   "cell_type": "code",
   "execution_count": 3,
   "id": "057ae987",
   "metadata": {},
   "outputs": [
    {
     "name": "stdout",
     "output_type": "stream",
     "text": [
      "Scraping reviews for Dashen Bank...\n",
      "Fetched 600 reviews.\n"
     ]
    },
    {
     "data": {
      "text/html": [
       "<div>\n",
       "<style scoped>\n",
       "    .dataframe tbody tr th:only-of-type {\n",
       "        vertical-align: middle;\n",
       "    }\n",
       "\n",
       "    .dataframe tbody tr th {\n",
       "        vertical-align: top;\n",
       "    }\n",
       "\n",
       "    .dataframe thead th {\n",
       "        text-align: right;\n",
       "    }\n",
       "</style>\n",
       "<table border=\"1\" class=\"dataframe\">\n",
       "  <thead>\n",
       "    <tr style=\"text-align: right;\">\n",
       "      <th></th>\n",
       "      <th>reviewId</th>\n",
       "      <th>userName</th>\n",
       "      <th>review</th>\n",
       "      <th>rating</th>\n",
       "      <th>thumbsUpCount</th>\n",
       "      <th>app_version</th>\n",
       "      <th>date</th>\n",
       "      <th>bank</th>\n",
       "    </tr>\n",
       "  </thead>\n",
       "  <tbody>\n",
       "    <tr>\n",
       "      <th>0</th>\n",
       "      <td>6ab16d21-d2c8-4235-9c48-ff713bfde731</td>\n",
       "      <td>Adonijah</td>\n",
       "      <td>I like this mobile banking app very much. Over...</td>\n",
       "      <td>2</td>\n",
       "      <td>0</td>\n",
       "      <td>1.0.16</td>\n",
       "      <td>2025-06-07 10:40:29</td>\n",
       "      <td>Dashen Bank</td>\n",
       "    </tr>\n",
       "    <tr>\n",
       "      <th>1</th>\n",
       "      <td>22818807-3368-446c-8a3b-d3ca2e07a2d8</td>\n",
       "      <td>OBSA KA</td>\n",
       "      <td>love</td>\n",
       "      <td>3</td>\n",
       "      <td>0</td>\n",
       "      <td>1.0.16</td>\n",
       "      <td>2025-06-06 00:15:44</td>\n",
       "      <td>Dashen Bank</td>\n",
       "    </tr>\n",
       "    <tr>\n",
       "      <th>2</th>\n",
       "      <td>6ece1f5e-55f2-404d-b980-1cb45823180f</td>\n",
       "      <td>Masersha</td>\n",
       "      <td>መቸሸጠ</td>\n",
       "      <td>5</td>\n",
       "      <td>0</td>\n",
       "      <td>1.0.16</td>\n",
       "      <td>2025-06-03 19:40:31</td>\n",
       "      <td>Dashen Bank</td>\n",
       "    </tr>\n",
       "    <tr>\n",
       "      <th>3</th>\n",
       "      <td>765ff69f-5274-45c5-985b-81b8d01e1874</td>\n",
       "      <td>Koki Mulugeta</td>\n",
       "      <td>wow</td>\n",
       "      <td>5</td>\n",
       "      <td>0</td>\n",
       "      <td>None</td>\n",
       "      <td>2025-06-03 17:30:11</td>\n",
       "      <td>Dashen Bank</td>\n",
       "    </tr>\n",
       "    <tr>\n",
       "      <th>4</th>\n",
       "      <td>7db66b6a-a044-43f1-a7ad-ea8a10815548</td>\n",
       "      <td>Badhasa Dassaalany</td>\n",
       "      <td>gadaa</td>\n",
       "      <td>5</td>\n",
       "      <td>0</td>\n",
       "      <td>1.0.16</td>\n",
       "      <td>2025-06-01 17:10:53</td>\n",
       "      <td>Dashen Bank</td>\n",
       "    </tr>\n",
       "  </tbody>\n",
       "</table>\n",
       "</div>"
      ],
      "text/plain": [
       "                               reviewId            userName  \\\n",
       "0  6ab16d21-d2c8-4235-9c48-ff713bfde731            Adonijah   \n",
       "1  22818807-3368-446c-8a3b-d3ca2e07a2d8             OBSA KA   \n",
       "2  6ece1f5e-55f2-404d-b980-1cb45823180f            Masersha   \n",
       "3  765ff69f-5274-45c5-985b-81b8d01e1874       Koki Mulugeta   \n",
       "4  7db66b6a-a044-43f1-a7ad-ea8a10815548  Badhasa Dassaalany   \n",
       "\n",
       "                                              review  rating  thumbsUpCount  \\\n",
       "0  I like this mobile banking app very much. Over...       2              0   \n",
       "1                                               love       3              0   \n",
       "2                                               መቸሸጠ       5              0   \n",
       "3                                                wow       5              0   \n",
       "4                                              gadaa       5              0   \n",
       "\n",
       "  app_version                date         bank  \n",
       "0      1.0.16 2025-06-07 10:40:29  Dashen Bank  \n",
       "1      1.0.16 2025-06-06 00:15:44  Dashen Bank  \n",
       "2      1.0.16 2025-06-03 19:40:31  Dashen Bank  \n",
       "3        None 2025-06-03 17:30:11  Dashen Bank  \n",
       "4      1.0.16 2025-06-01 17:10:53  Dashen Bank  "
      ]
     },
     "execution_count": 3,
     "metadata": {},
     "output_type": "execute_result"
    }
   ],
   "source": [
    "df = fetch_reviews(app_id, bank, max_reviews=500)\n",
    "print(f\"Fetched {len(df)} reviews.\")\n",
    "df.head()\n"
   ]
  },
  {
   "cell_type": "code",
   "execution_count": 4,
   "id": "2820d08e",
   "metadata": {},
   "outputs": [
    {
     "name": "stdout",
     "output_type": "stream",
     "text": [
      "Saved raw reviews to ../data/raw/dashen_raw_reviews.csv\n"
     ]
    }
   ],
   "source": [
    "os.makedirs(os.path.dirname(raw_path), exist_ok=True)\n",
    "df.to_csv(raw_path, index=False)\n",
    "print(f\"Saved raw reviews to {raw_path}\")\n"
   ]
  },
  {
   "cell_type": "code",
   "execution_count": 5,
   "id": "0c7700d0",
   "metadata": {},
   "outputs": [
    {
     "name": "stdout",
     "output_type": "stream",
     "text": [
      "Dropped 0.00% rows with empty reviews\n"
     ]
    },
    {
     "data": {
      "text/html": [
       "<div>\n",
       "<style scoped>\n",
       "    .dataframe tbody tr th:only-of-type {\n",
       "        vertical-align: middle;\n",
       "    }\n",
       "\n",
       "    .dataframe tbody tr th {\n",
       "        vertical-align: top;\n",
       "    }\n",
       "\n",
       "    .dataframe thead th {\n",
       "        text-align: right;\n",
       "    }\n",
       "</style>\n",
       "<table border=\"1\" class=\"dataframe\">\n",
       "  <thead>\n",
       "    <tr style=\"text-align: right;\">\n",
       "      <th></th>\n",
       "      <th>reviewId</th>\n",
       "      <th>userName</th>\n",
       "      <th>review</th>\n",
       "      <th>rating</th>\n",
       "      <th>thumbsUpCount</th>\n",
       "      <th>app_version</th>\n",
       "      <th>date</th>\n",
       "      <th>bank</th>\n",
       "      <th>clean_review</th>\n",
       "      <th>sentiment</th>\n",
       "    </tr>\n",
       "  </thead>\n",
       "  <tbody>\n",
       "    <tr>\n",
       "      <th>0</th>\n",
       "      <td>6ab16d21-d2c8-4235-9c48-ff713bfde731</td>\n",
       "      <td>Adonijah</td>\n",
       "      <td>I like this mobile banking app very much. Over...</td>\n",
       "      <td>2</td>\n",
       "      <td>0</td>\n",
       "      <td>1.0.16</td>\n",
       "      <td>2025-06-07 10:40:29</td>\n",
       "      <td>Dashen Bank</td>\n",
       "      <td>i like this mobile banking app very much overa...</td>\n",
       "      <td>0.333333</td>\n",
       "    </tr>\n",
       "    <tr>\n",
       "      <th>1</th>\n",
       "      <td>22818807-3368-446c-8a3b-d3ca2e07a2d8</td>\n",
       "      <td>OBSA KA</td>\n",
       "      <td>love</td>\n",
       "      <td>3</td>\n",
       "      <td>0</td>\n",
       "      <td>1.0.16</td>\n",
       "      <td>2025-06-06 00:15:44</td>\n",
       "      <td>Dashen Bank</td>\n",
       "      <td>love</td>\n",
       "      <td>0.500000</td>\n",
       "    </tr>\n",
       "    <tr>\n",
       "      <th>2</th>\n",
       "      <td>765ff69f-5274-45c5-985b-81b8d01e1874</td>\n",
       "      <td>Koki Mulugeta</td>\n",
       "      <td>wow</td>\n",
       "      <td>5</td>\n",
       "      <td>0</td>\n",
       "      <td>None</td>\n",
       "      <td>2025-06-03 17:30:11</td>\n",
       "      <td>Dashen Bank</td>\n",
       "      <td>wow</td>\n",
       "      <td>0.100000</td>\n",
       "    </tr>\n",
       "    <tr>\n",
       "      <th>3</th>\n",
       "      <td>7db66b6a-a044-43f1-a7ad-ea8a10815548</td>\n",
       "      <td>Badhasa Dassaalany</td>\n",
       "      <td>gadaa</td>\n",
       "      <td>5</td>\n",
       "      <td>0</td>\n",
       "      <td>1.0.16</td>\n",
       "      <td>2025-06-01 17:10:53</td>\n",
       "      <td>Dashen Bank</td>\n",
       "      <td>gadaa</td>\n",
       "      <td>0.000000</td>\n",
       "    </tr>\n",
       "    <tr>\n",
       "      <th>4</th>\n",
       "      <td>caf4a80c-85db-4b49-ab9c-a0b55e152317</td>\n",
       "      <td>Nebiyu Getachew Mamo</td>\n",
       "      <td>Massive upgrade from the Amole app.</td>\n",
       "      <td>5</td>\n",
       "      <td>0</td>\n",
       "      <td>1.0.16</td>\n",
       "      <td>2025-05-31 23:04:04</td>\n",
       "      <td>Dashen Bank</td>\n",
       "      <td>massive upgrade from the amole app</td>\n",
       "      <td>0.000000</td>\n",
       "    </tr>\n",
       "  </tbody>\n",
       "</table>\n",
       "</div>"
      ],
      "text/plain": [
       "                               reviewId              userName  \\\n",
       "0  6ab16d21-d2c8-4235-9c48-ff713bfde731              Adonijah   \n",
       "1  22818807-3368-446c-8a3b-d3ca2e07a2d8               OBSA KA   \n",
       "2  765ff69f-5274-45c5-985b-81b8d01e1874         Koki Mulugeta   \n",
       "3  7db66b6a-a044-43f1-a7ad-ea8a10815548    Badhasa Dassaalany   \n",
       "4  caf4a80c-85db-4b49-ab9c-a0b55e152317  Nebiyu Getachew Mamo   \n",
       "\n",
       "                                              review  rating  thumbsUpCount  \\\n",
       "0  I like this mobile banking app very much. Over...       2              0   \n",
       "1                                               love       3              0   \n",
       "2                                                wow       5              0   \n",
       "3                                              gadaa       5              0   \n",
       "4                Massive upgrade from the Amole app.       5              0   \n",
       "\n",
       "  app_version                date         bank  \\\n",
       "0      1.0.16 2025-06-07 10:40:29  Dashen Bank   \n",
       "1      1.0.16 2025-06-06 00:15:44  Dashen Bank   \n",
       "2        None 2025-06-03 17:30:11  Dashen Bank   \n",
       "3      1.0.16 2025-06-01 17:10:53  Dashen Bank   \n",
       "4      1.0.16 2025-05-31 23:04:04  Dashen Bank   \n",
       "\n",
       "                                        clean_review  sentiment  \n",
       "0  i like this mobile banking app very much overa...   0.333333  \n",
       "1                                               love   0.500000  \n",
       "2                                                wow   0.100000  \n",
       "3                                              gadaa   0.000000  \n",
       "4                 massive upgrade from the amole app   0.000000  "
      ]
     },
     "execution_count": 5,
     "metadata": {},
     "output_type": "execute_result"
    }
   ],
   "source": [
    "cleaner = ReviewCleaner(df)\n",
    "clean_df = cleaner.clean()\n",
    "clean_df.head()\n"
   ]
  },
  {
   "cell_type": "code",
   "execution_count": 6,
   "id": "48082556",
   "metadata": {},
   "outputs": [
    {
     "name": "stdout",
     "output_type": "stream",
     "text": [
      "Saved cleaned reviews to ../data/processed/dashen_clean_reviews.csv\n"
     ]
    }
   ],
   "source": [
    "os.makedirs(os.path.dirname(processed_path), exist_ok=True)\n",
    "clean_df.to_csv(processed_path, index=False)\n",
    "print(f\"Saved cleaned reviews to {processed_path}\")\n"
   ]
  }
 ],
 "metadata": {
  "kernelspec": {
   "display_name": "env",
   "language": "python",
   "name": "python3"
  },
  "language_info": {
   "codemirror_mode": {
    "name": "ipython",
    "version": 3
   },
   "file_extension": ".py",
   "mimetype": "text/x-python",
   "name": "python",
   "nbconvert_exporter": "python",
   "pygments_lexer": "ipython3",
   "version": "3.13.1"
  }
 },
 "nbformat": 4,
 "nbformat_minor": 5
}
