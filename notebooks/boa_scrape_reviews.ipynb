{
 "cells": [
  {
   "cell_type": "code",
   "execution_count": 1,
   "id": "b75df4f5",
   "metadata": {},
   "outputs": [
    {
     "name": "stderr",
     "output_type": "stream",
     "text": [
      "[nltk_data] Downloading package punkt to C:\\Users\\Alem The\n",
      "[nltk_data]     Kal\\AppData\\Roaming\\nltk_data...\n",
      "[nltk_data]   Package punkt is already up-to-date!\n",
      "[nltk_data] Downloading package wordnet to C:\\Users\\Alem The\n",
      "[nltk_data]     Kal\\AppData\\Roaming\\nltk_data...\n",
      "[nltk_data]   Package wordnet is already up-to-date!\n"
     ]
    }
   ],
   "source": [
    "import pandas as pd\n",
    "import os\n",
    "import sys\n",
    "\n",
    "sys.path.append(os.path.abspath(\"..\"))\n",
    "\n",
    "from scripts.scrape import fetch_reviews\n",
    "from scripts.clean_reviews import ReviewCleaner\n"
   ]
  },
  {
   "cell_type": "code",
   "execution_count": 2,
   "id": "b980bc5b",
   "metadata": {},
   "outputs": [],
   "source": [
    "bank = \"Bank of Abyssinia\"\n",
    "app_id = \"com.boa.boaMobileBanking\"\n",
    "\n",
    "raw_path = \"../data/raw/boa_raw_reviews.csv\"\n",
    "processed_path = \"../data/processed/boa_clean_reviews.csv\"\n"
   ]
  },
  {
   "cell_type": "code",
   "execution_count": 3,
   "id": "b4a531e0",
   "metadata": {},
   "outputs": [
    {
     "name": "stdout",
     "output_type": "stream",
     "text": [
      "Scraping reviews for Bank of Abyssinia...\n",
      "Fetched 600 reviews.\n"
     ]
    },
    {
     "data": {
      "text/html": [
       "<div>\n",
       "<style scoped>\n",
       "    .dataframe tbody tr th:only-of-type {\n",
       "        vertical-align: middle;\n",
       "    }\n",
       "\n",
       "    .dataframe tbody tr th {\n",
       "        vertical-align: top;\n",
       "    }\n",
       "\n",
       "    .dataframe thead th {\n",
       "        text-align: right;\n",
       "    }\n",
       "</style>\n",
       "<table border=\"1\" class=\"dataframe\">\n",
       "  <thead>\n",
       "    <tr style=\"text-align: right;\">\n",
       "      <th></th>\n",
       "      <th>reviewId</th>\n",
       "      <th>userName</th>\n",
       "      <th>review</th>\n",
       "      <th>rating</th>\n",
       "      <th>thumbsUpCount</th>\n",
       "      <th>app_version</th>\n",
       "      <th>date</th>\n",
       "      <th>bank</th>\n",
       "    </tr>\n",
       "  </thead>\n",
       "  <tbody>\n",
       "    <tr>\n",
       "      <th>0</th>\n",
       "      <td>937102c6-ae88-419c-994b-80e520faacb8</td>\n",
       "      <td>Phillmon Haftom</td>\n",
       "      <td>it's not working</td>\n",
       "      <td>3</td>\n",
       "      <td>0</td>\n",
       "      <td>25.05.03</td>\n",
       "      <td>2025-06-05 11:57:36</td>\n",
       "      <td>Bank of Abyssinia</td>\n",
       "    </tr>\n",
       "    <tr>\n",
       "      <th>1</th>\n",
       "      <td>3559b91c-fad9-4032-bebe-cf99974b9628</td>\n",
       "      <td>Robel Alebachew</td>\n",
       "      <td>Hello, I’m facing a problem with the BOA Mobil...</td>\n",
       "      <td>1</td>\n",
       "      <td>0</td>\n",
       "      <td>None</td>\n",
       "      <td>2025-06-03 16:21:34</td>\n",
       "      <td>Bank of Abyssinia</td>\n",
       "    </tr>\n",
       "    <tr>\n",
       "      <th>2</th>\n",
       "      <td>10e85f30-540d-4810-ba89-85a7e004480b</td>\n",
       "      <td>Haymanot Anberber</td>\n",
       "      <td>exceptional</td>\n",
       "      <td>5</td>\n",
       "      <td>0</td>\n",
       "      <td>None</td>\n",
       "      <td>2025-06-03 10:32:35</td>\n",
       "      <td>Bank of Abyssinia</td>\n",
       "    </tr>\n",
       "    <tr>\n",
       "      <th>3</th>\n",
       "      <td>d7f07898-4ba1-47b4-9e8c-a3cc10b1bf0f</td>\n",
       "      <td>Mohamed Abdillahi</td>\n",
       "      <td>BoA Mobile good bank</td>\n",
       "      <td>5</td>\n",
       "      <td>0</td>\n",
       "      <td>25.05.03</td>\n",
       "      <td>2025-06-02 14:25:12</td>\n",
       "      <td>Bank of Abyssinia</td>\n",
       "    </tr>\n",
       "    <tr>\n",
       "      <th>4</th>\n",
       "      <td>2ca9480b-ff5f-4b59-952c-5921db83dab2</td>\n",
       "      <td>Ahadu tech</td>\n",
       "      <td>this is worest app 24/7 loading</td>\n",
       "      <td>1</td>\n",
       "      <td>0</td>\n",
       "      <td>25.05.03</td>\n",
       "      <td>2025-06-01 15:51:10</td>\n",
       "      <td>Bank of Abyssinia</td>\n",
       "    </tr>\n",
       "  </tbody>\n",
       "</table>\n",
       "</div>"
      ],
      "text/plain": [
       "                               reviewId           userName  \\\n",
       "0  937102c6-ae88-419c-994b-80e520faacb8    Phillmon Haftom   \n",
       "1  3559b91c-fad9-4032-bebe-cf99974b9628    Robel Alebachew   \n",
       "2  10e85f30-540d-4810-ba89-85a7e004480b  Haymanot Anberber   \n",
       "3  d7f07898-4ba1-47b4-9e8c-a3cc10b1bf0f  Mohamed Abdillahi   \n",
       "4  2ca9480b-ff5f-4b59-952c-5921db83dab2         Ahadu tech   \n",
       "\n",
       "                                              review  rating  thumbsUpCount  \\\n",
       "0                                   it's not working       3              0   \n",
       "1  Hello, I’m facing a problem with the BOA Mobil...       1              0   \n",
       "2                                        exceptional       5              0   \n",
       "3                               BoA Mobile good bank       5              0   \n",
       "4                    this is worest app 24/7 loading       1              0   \n",
       "\n",
       "  app_version                date               bank  \n",
       "0    25.05.03 2025-06-05 11:57:36  Bank of Abyssinia  \n",
       "1        None 2025-06-03 16:21:34  Bank of Abyssinia  \n",
       "2        None 2025-06-03 10:32:35  Bank of Abyssinia  \n",
       "3    25.05.03 2025-06-02 14:25:12  Bank of Abyssinia  \n",
       "4    25.05.03 2025-06-01 15:51:10  Bank of Abyssinia  "
      ]
     },
     "execution_count": 3,
     "metadata": {},
     "output_type": "execute_result"
    }
   ],
   "source": [
    "df = fetch_reviews(app_id, bank, max_reviews=500)\n",
    "print(f\"Fetched {len(df)} reviews.\")\n",
    "df.head()\n"
   ]
  },
  {
   "cell_type": "code",
   "execution_count": 4,
   "id": "572f4936",
   "metadata": {},
   "outputs": [
    {
     "name": "stdout",
     "output_type": "stream",
     "text": [
      "Saved raw reviews to ../data/raw/boa_raw_reviews.csv\n"
     ]
    }
   ],
   "source": [
    "os.makedirs(os.path.dirname(raw_path), exist_ok=True)\n",
    "df.to_csv(raw_path, index=False)\n",
    "print(f\"Saved raw reviews to {raw_path}\")\n"
   ]
  },
  {
   "cell_type": "code",
   "execution_count": 5,
   "id": "bf314817",
   "metadata": {},
   "outputs": [
    {
     "name": "stdout",
     "output_type": "stream",
     "text": [
      "Dropped 0.00% rows with empty reviews\n"
     ]
    },
    {
     "data": {
      "text/html": [
       "<div>\n",
       "<style scoped>\n",
       "    .dataframe tbody tr th:only-of-type {\n",
       "        vertical-align: middle;\n",
       "    }\n",
       "\n",
       "    .dataframe tbody tr th {\n",
       "        vertical-align: top;\n",
       "    }\n",
       "\n",
       "    .dataframe thead th {\n",
       "        text-align: right;\n",
       "    }\n",
       "</style>\n",
       "<table border=\"1\" class=\"dataframe\">\n",
       "  <thead>\n",
       "    <tr style=\"text-align: right;\">\n",
       "      <th></th>\n",
       "      <th>reviewId</th>\n",
       "      <th>userName</th>\n",
       "      <th>review</th>\n",
       "      <th>rating</th>\n",
       "      <th>thumbsUpCount</th>\n",
       "      <th>app_version</th>\n",
       "      <th>date</th>\n",
       "      <th>bank</th>\n",
       "      <th>clean_review</th>\n",
       "      <th>sentiment</th>\n",
       "    </tr>\n",
       "  </thead>\n",
       "  <tbody>\n",
       "    <tr>\n",
       "      <th>0</th>\n",
       "      <td>937102c6-ae88-419c-994b-80e520faacb8</td>\n",
       "      <td>Phillmon Haftom</td>\n",
       "      <td>it's not working</td>\n",
       "      <td>3</td>\n",
       "      <td>0</td>\n",
       "      <td>25.05.03</td>\n",
       "      <td>2025-06-05 11:57:36</td>\n",
       "      <td>Bank of Abyssinia</td>\n",
       "      <td>its not working</td>\n",
       "      <td>0.000000</td>\n",
       "    </tr>\n",
       "    <tr>\n",
       "      <th>1</th>\n",
       "      <td>3559b91c-fad9-4032-bebe-cf99974b9628</td>\n",
       "      <td>Robel Alebachew</td>\n",
       "      <td>Hello, I’m facing a problem with the BOA Mobil...</td>\n",
       "      <td>1</td>\n",
       "      <td>0</td>\n",
       "      <td>None</td>\n",
       "      <td>2025-06-03 16:21:34</td>\n",
       "      <td>Bank of Abyssinia</td>\n",
       "      <td>hello im facing a problem with the boa mobile ...</td>\n",
       "      <td>0.033333</td>\n",
       "    </tr>\n",
       "    <tr>\n",
       "      <th>2</th>\n",
       "      <td>10e85f30-540d-4810-ba89-85a7e004480b</td>\n",
       "      <td>Haymanot Anberber</td>\n",
       "      <td>exceptional</td>\n",
       "      <td>5</td>\n",
       "      <td>0</td>\n",
       "      <td>None</td>\n",
       "      <td>2025-06-03 10:32:35</td>\n",
       "      <td>Bank of Abyssinia</td>\n",
       "      <td>exceptional</td>\n",
       "      <td>0.666667</td>\n",
       "    </tr>\n",
       "    <tr>\n",
       "      <th>3</th>\n",
       "      <td>d7f07898-4ba1-47b4-9e8c-a3cc10b1bf0f</td>\n",
       "      <td>Mohamed Abdillahi</td>\n",
       "      <td>BoA Mobile good bank</td>\n",
       "      <td>5</td>\n",
       "      <td>0</td>\n",
       "      <td>25.05.03</td>\n",
       "      <td>2025-06-02 14:25:12</td>\n",
       "      <td>Bank of Abyssinia</td>\n",
       "      <td>boa mobile good bank</td>\n",
       "      <td>0.700000</td>\n",
       "    </tr>\n",
       "    <tr>\n",
       "      <th>4</th>\n",
       "      <td>2ca9480b-ff5f-4b59-952c-5921db83dab2</td>\n",
       "      <td>Ahadu tech</td>\n",
       "      <td>this is worest app 24/7 loading</td>\n",
       "      <td>1</td>\n",
       "      <td>0</td>\n",
       "      <td>25.05.03</td>\n",
       "      <td>2025-06-01 15:51:10</td>\n",
       "      <td>Bank of Abyssinia</td>\n",
       "      <td>this is worest app loading</td>\n",
       "      <td>0.000000</td>\n",
       "    </tr>\n",
       "  </tbody>\n",
       "</table>\n",
       "</div>"
      ],
      "text/plain": [
       "                               reviewId           userName  \\\n",
       "0  937102c6-ae88-419c-994b-80e520faacb8    Phillmon Haftom   \n",
       "1  3559b91c-fad9-4032-bebe-cf99974b9628    Robel Alebachew   \n",
       "2  10e85f30-540d-4810-ba89-85a7e004480b  Haymanot Anberber   \n",
       "3  d7f07898-4ba1-47b4-9e8c-a3cc10b1bf0f  Mohamed Abdillahi   \n",
       "4  2ca9480b-ff5f-4b59-952c-5921db83dab2         Ahadu tech   \n",
       "\n",
       "                                              review  rating  thumbsUpCount  \\\n",
       "0                                   it's not working       3              0   \n",
       "1  Hello, I’m facing a problem with the BOA Mobil...       1              0   \n",
       "2                                        exceptional       5              0   \n",
       "3                               BoA Mobile good bank       5              0   \n",
       "4                    this is worest app 24/7 loading       1              0   \n",
       "\n",
       "  app_version                date               bank  \\\n",
       "0    25.05.03 2025-06-05 11:57:36  Bank of Abyssinia   \n",
       "1        None 2025-06-03 16:21:34  Bank of Abyssinia   \n",
       "2        None 2025-06-03 10:32:35  Bank of Abyssinia   \n",
       "3    25.05.03 2025-06-02 14:25:12  Bank of Abyssinia   \n",
       "4    25.05.03 2025-06-01 15:51:10  Bank of Abyssinia   \n",
       "\n",
       "                                        clean_review  sentiment  \n",
       "0                                    its not working   0.000000  \n",
       "1  hello im facing a problem with the boa mobile ...   0.033333  \n",
       "2                                        exceptional   0.666667  \n",
       "3                               boa mobile good bank   0.700000  \n",
       "4                         this is worest app loading   0.000000  "
      ]
     },
     "execution_count": 5,
     "metadata": {},
     "output_type": "execute_result"
    }
   ],
   "source": [
    "cleaner = ReviewCleaner(df)\n",
    "clean_df = cleaner.clean()\n",
    "clean_df.head()\n"
   ]
  },
  {
   "cell_type": "code",
   "execution_count": 6,
   "id": "a3105eb6",
   "metadata": {},
   "outputs": [
    {
     "name": "stdout",
     "output_type": "stream",
     "text": [
      "Saved cleaned reviews to ../data/processed/boa_clean_reviews.csv\n"
     ]
    }
   ],
   "source": [
    "os.makedirs(os.path.dirname(processed_path), exist_ok=True)\n",
    "clean_df.to_csv(processed_path, index=False)\n",
    "print(f\"Saved cleaned reviews to {processed_path}\")\n"
   ]
  }
 ],
 "metadata": {
  "kernelspec": {
   "display_name": "env",
   "language": "python",
   "name": "python3"
  },
  "language_info": {
   "codemirror_mode": {
    "name": "ipython",
    "version": 3
   },
   "file_extension": ".py",
   "mimetype": "text/x-python",
   "name": "python",
   "nbconvert_exporter": "python",
   "pygments_lexer": "ipython3",
   "version": "3.13.1"
  }
 },
 "nbformat": 4,
 "nbformat_minor": 5
}
